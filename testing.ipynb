{
 "cells": [
  {
   "cell_type": "code",
   "execution_count": 1,
   "metadata": {},
   "outputs": [],
   "source": [
    "import pandas as pd\n",
    "import os"
   ]
  },
  {
   "cell_type": "code",
   "execution_count": 19,
   "metadata": {},
   "outputs": [],
   "source": [
    "\n"
   ]
  },
  {
   "cell_type": "code",
   "execution_count": 49,
   "metadata": {},
   "outputs": [
    {
     "ename": "TypeError",
     "evalue": "list.append() takes exactly one argument (9 given)",
     "output_type": "error",
     "traceback": [
      "\u001b[0;31m---------------------------------------------------------------------------\u001b[0m",
      "\u001b[0;31mTypeError\u001b[0m                                 Traceback (most recent call last)",
      "Cell \u001b[0;32mIn[49], line 14\u001b[0m\n\u001b[1;32m     12\u001b[0m cap_rate \u001b[38;5;241m=\u001b[39m \u001b[38;5;124mf\u001b[39m\u001b[38;5;124m\"\u001b[39m\u001b[38;5;124m%\u001b[39m\u001b[38;5;132;01m{\u001b[39;00mdf_comuna\u001b[38;5;241m.\u001b[39mloc[row, \u001b[38;5;124m'\u001b[39m\u001b[38;5;124mCap Rate Manual - IA Ponderado\u001b[39m\u001b[38;5;124m'\u001b[39m]\u001b[38;5;132;01m:\u001b[39;00m\u001b[38;5;124m,.2f\u001b[39m\u001b[38;5;132;01m}\u001b[39;00m\u001b[38;5;124m\"\u001b[39m\u001b[38;5;241m.\u001b[39mreplace(\u001b[38;5;124m\"\u001b[39m\u001b[38;5;124m.\u001b[39m\u001b[38;5;124m\"\u001b[39m, \u001b[38;5;124m'\u001b[39m\u001b[38;5;124m,\u001b[39m\u001b[38;5;124m'\u001b[39m)\n\u001b[1;32m     13\u001b[0m \u001b[38;5;66;03m# Todo rentabilidades y utilidad\u001b[39;00m\n\u001b[0;32m---> 14\u001b[0m \u001b[43mlistados\u001b[49m\u001b[38;5;241;43m.\u001b[39;49m\u001b[43mappend\u001b[49m\u001b[43m(\u001b[49m\n\u001b[1;32m     15\u001b[0m \u001b[43m    \u001b[49m\u001b[43mtitulo\u001b[49m\u001b[43m,\u001b[49m\n\u001b[1;32m     16\u001b[0m \u001b[43m    \u001b[49m\u001b[43mcomuna\u001b[49m\u001b[43m,\u001b[49m\n\u001b[1;32m     17\u001b[0m \u001b[43m    \u001b[49m\u001b[43mdireccion\u001b[49m\u001b[43m,\u001b[49m\n\u001b[1;32m     18\u001b[0m \u001b[43m    \u001b[49m\u001b[43msuperficie\u001b[49m\u001b[43m,\u001b[49m\u001b[43m \u001b[49m\n\u001b[1;32m     19\u001b[0m \u001b[43m    \u001b[49m\u001b[43mtipologia\u001b[49m\u001b[43m,\u001b[49m\u001b[43m \u001b[49m\n\u001b[1;32m     20\u001b[0m \u001b[43m    \u001b[49m\u001b[43mprecio\u001b[49m\u001b[43m,\u001b[49m\u001b[43m \u001b[49m\n\u001b[1;32m     21\u001b[0m \u001b[43m    \u001b[49m\u001b[43marriendo\u001b[49m\u001b[43m,\u001b[49m\u001b[43m \u001b[49m\u001b[43marriendo_amoblado\u001b[49m\u001b[43m,\u001b[49m\u001b[43m \u001b[49m\u001b[43mcap_rate\u001b[49m\u001b[43m)\u001b[49m\n",
      "\u001b[0;31mTypeError\u001b[0m: list.append() takes exactly one argument (9 given)"
     ]
    }
   ],
   "source": [
    "comuna_ = 'Cerrillos'\n",
    "df_comuna = pd.read_excel(f'db/{comuna_}_dpto_ventas_resumen_2024-05.xlsx')\n",
    "\n",
    "for row in range(df_comuna.shape[0]):\n",
    "    titulo = df_comuna.loc[row, 'Titulo']\n",
    "    comuna = comuna_\n",
    "    direccion = df_comuna.loc[row, 'Direccion']\n",
    "    superficie = \" \".join(df_comuna.loc[row, 'Superficie Útil'].split(' ')[:2])\n",
    "    tipologia = f\"{df_comuna.loc[row, 'Habitaciones'].split(' ')[0]}D+{df_comuna.loc[row, 'Banos'].split(' ')[0]}B\"\n",
    "    precio = f\"UF {df_comuna.loc[row, 'precio [UF]']:,.0f}\".replace(',','.')\n",
    "    arriendo = \"\"\n",
    "    arriendo_amoblado = \"\"\n",
    "    cap_rate = f\"%{df_comuna.loc[row, 'Cap Rate Manual - IA Ponderado']:,.2f}\".replace(\".\", ',')\n",
    "    \n",
    "    # Todo rentabilidades y utilidad\n",
    "    self.tabla_dfl2.insertRow(self.tabla_dfl2.rowCount())\n",
    "    self.tabla_dfl2.setItem(0, 0, QTableWidgetItem(titulo))\n",
    "    self.tabla_dfl2.setItem(0, 1, QTableWidgetItem(comuna))\n",
    "    self.tabla_dfl2.setItem(0, 2, QTableWidgetItem(direccion))\n",
    "    self.tabla_dfl2.setItem(0, 3, QTableWidgetItem(superficie))\n",
    "    self.tabla_dfl2.setItem(0, 4, QTableWidgetItem(tipologia))\n",
    "    self.tabla_dfl2.setItem(0, 5, QTableWidgetItem(precio))\n",
    "    self.tabla_dfl2.setItem(0, 6, QTableWidgetItem(arriendo)) \n",
    "    self.tabla_dfl2.setItem(0, 7, QTableWidgetItem(arriendo_amoblado))\n",
    "    self.tabla_dfl2.setItem(0, 8, QTableWidgetItem(cap_rate))"
   ]
  }
 ],
 "metadata": {
  "kernelspec": {
   "display_name": "Python 3",
   "language": "python",
   "name": "python3"
  },
  "language_info": {
   "codemirror_mode": {
    "name": "ipython",
    "version": 3
   },
   "file_extension": ".py",
   "mimetype": "text/x-python",
   "name": "python",
   "nbconvert_exporter": "python",
   "pygments_lexer": "ipython3",
   "version": "3.10.9"
  }
 },
 "nbformat": 4,
 "nbformat_minor": 2
}
